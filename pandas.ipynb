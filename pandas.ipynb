{
 "cells": [
  {
   "cell_type": "code",
   "execution_count": 1,
   "metadata": {},
   "outputs": [],
   "source": [
    "import numpy as np\n",
    "import pandas as pd"
   ]
  },
  {
   "cell_type": "code",
   "execution_count": 11,
   "metadata": {},
   "outputs": [
    {
     "name": "stdout",
     "output_type": "stream",
     "text": [
      "   temperature  activity\n",
      "0            0         3\n",
      "1           10         7\n",
      "2           20         9\n",
      "3           30        14\n",
      "4           40        15\n"
     ]
    }
   ],
   "source": [
    "import numpy as np \n",
    "import pandas as pd\n",
    "# Create and populate a 5x2 NumPy array.\n",
    "my_data = np.array([[0, 3], [10, 7], [20, 9], [30, 14], [40, 15]])\n",
    "\n",
    "\n",
    "#  Create a python list that holds the names of the two columns.\n",
    "my_column_names = ['temperature', 'activity']\n",
    "\n",
    "# Create a DataFrame\n",
    "my_dataframe = pd.DataFrame(data=my_data, columns=my_column_names)\n",
    "print(my_dataframe)"
   ]
  },
  {
   "cell_type": "code",
   "execution_count": 8,
   "metadata": {},
   "outputs": [
    {
     "name": "stdout",
     "output_type": "stream",
     "text": [
      "   temperature  activity  adjusted\n",
      "0            0         3         5\n",
      "1           10         7         9\n",
      "2           20         9        11\n",
      "3           30        14        16\n",
      "4           40        15        17\n"
     ]
    }
   ],
   "source": [
    "# Create a new column named adjusted.\n",
    "my_dataframe['adjusted'] = my_dataframe['activity'] + 2\n",
    "\n",
    "# Print the entire DataFrame \n",
    "print(my_dataframe)"
   ]
  },
  {
   "cell_type": "code",
   "execution_count": 6,
   "metadata": {},
   "outputs": [
    {
     "name": "stdout",
     "output_type": "stream",
     "text": [
      "   temperature  activity\n",
      "0            0         3\n",
      "1           10         7\n",
      "2           20         9\n",
      "3           30        14\n",
      "4           40        15\n"
     ]
    }
   ],
   "source": [
    "# Create and populate a 5x2 NumPy array.\n",
    "import numpy as np\n",
    "import pandas as pd\n",
    "my_data = np.array([[0, 3], [10, 7], [20, 9], [30, 14], [40, 15]])\n",
    "\n",
    "# Create a Python list that holds the names of the two columns.\n",
    "my_column_names = ['temperature', 'activity']\n",
    "\n",
    "# Create a DataFrame.\n",
    "my_dataframe = pd.DataFrame(data=my_data, columns=my_column_names)\n",
    "\n",
    "# Print the entire DataFrame\n",
    "print(my_dataframe)"
   ]
  },
  {
   "cell_type": "code",
   "execution_count": 20,
   "metadata": {},
   "outputs": [
    {
     "name": "stdout",
     "output_type": "stream",
     "text": [
      "Rows #0, #1, and  #2:\n",
      "   temperature  activity\n",
      "0            0         3\n",
      "1           10         7\n",
      "2           20         9 \n",
      "\n",
      "Row #2:\n",
      "   temperature  activity\n",
      "2           20         9 \n",
      "\n",
      "Rows #1, #2, and #3:\n",
      "   temperature  activity\n",
      "1           10         7\n",
      "2           20         9\n",
      "3           30        14 \n",
      "\n",
      "Column 'temperature':\n",
      "0     0\n",
      "1    10\n",
      "2    20\n",
      "3    30\n",
      "4    40\n",
      "Name: temperature, dtype: int32\n"
     ]
    }
   ],
   "source": [
    "print(\"Rows #0, #1, and  #2:\")\n",
    "print(my_dataframe.head(3),'\\n')\n",
    "\n",
    "print(\"Row #2:\")\n",
    "print(my_dataframe.iloc[[2]], '\\n')\n",
    "\n",
    "print(\"Rows #1, #2, and #3:\")\n",
    "print(my_dataframe[1:4], '\\n')\n",
    "\n",
    "print(\"Column 'temperature':\")\n",
    "print(my_dataframe['temperature'])"
   ]
  },
  {
   "cell_type": "code",
   "execution_count": 35,
   "metadata": {},
   "outputs": [
    {
     "name": "stdout",
     "output_type": "stream",
     "text": [
      "[[66 82  6 24]\n",
      " [84 50 23 72]\n",
      " [59 54 99 98]]\n"
     ]
    }
   ],
   "source": [
    "# Write your code here.\n",
    "Justine_data = np.random.randint(0, 101, (3,4))\n",
    "print(Justine_data)\n",
    "\n"
   ]
  },
  {
   "cell_type": "code",
   "execution_count": 45,
   "metadata": {},
   "outputs": [
    {
     "name": "stdout",
     "output_type": "stream",
     "text": [
      "   Eleanor  Chidi  Tahani  Jason\n",
      "0       22     53      23     80\n",
      "1       93     95      13      9\n",
      "2       29     58      78     56\n",
      "\n",
      "Second row of the Eleanor column: 93\n",
      "\n"
     ]
    }
   ],
   "source": [
    "obiazi_data = np.random.randint(0, 101, (3,4))\n",
    "\n",
    "obiazi_columns = ['Eleanor', 'Chidi', 'Tahani', 'Jason']\n",
    "\n",
    "obiazi_dataframe = pd.DataFrame(data=obiazi_data, columns=obiazi_columns)\n",
    "print(obiazi_dataframe)\n",
    "\n",
    "print('\\nSecond row of the Eleanor column: %d\\n' % obiazi_dataframe['Eleanor'][1])\n"
   ]
  },
  {
   "cell_type": "code",
   "execution_count": 40,
   "metadata": {},
   "outputs": [
    {
     "ename": "NameError",
     "evalue": "name 'Obiazi_dataframe' is not defined",
     "output_type": "error",
     "traceback": [
      "\u001b[1;31m---------------------------------------------------------------------------\u001b[0m",
      "\u001b[1;31mNameError\u001b[0m                                 Traceback (most recent call last)",
      "\u001b[1;32m<ipython-input-40-8d7261699066>\u001b[0m in \u001b[0;36m<module>\u001b[1;34m\u001b[0m\n\u001b[1;32m----> 1\u001b[1;33m \u001b[0mobiazi_dataframe\u001b[0m\u001b[1;33m[\u001b[0m\u001b[1;34m'Janet'\u001b[0m\u001b[1;33m]\u001b[0m \u001b[1;33m=\u001b[0m \u001b[0mObiazi_dataframe\u001b[0m\u001b[1;33m[\u001b[0m\u001b[1;34m'Tahini'\u001b[0m\u001b[1;33m]\u001b[0m \u001b[1;33m+\u001b[0m \u001b[0mobiazi_dataframe\u001b[0m\u001b[1;33m[\u001b[0m\u001b[1;34m'Jason'\u001b[0m\u001b[1;33m]\u001b[0m\u001b[1;33m\u001b[0m\u001b[1;33m\u001b[0m\u001b[0m\n\u001b[0m",
      "\u001b[1;31mNameError\u001b[0m: name 'Obiazi_dataframe' is not defined"
     ]
    }
   ],
   "source": [
    "\n",
    "obiazi_dataframe['Janet'] = Obiazi_dataframe['Tahini'] + obiazi_dataframe['Jason']"
   ]
  },
  {
   "cell_type": "code",
   "execution_count": 55,
   "metadata": {},
   "outputs": [
    {
     "name": "stdout",
     "output_type": "stream",
     "text": [
      "   Eleanor  Chidi  Tahani  Jason\n",
      "0       54      0      39     57\n",
      "1       15     25       0     35\n",
      "2       31     22      65     10\n",
      "\n",
      "Second row of the Eleanor column: 15\n",
      "\n",
      "   Eleanor  Chidi  Tahani  Jason  Janet\n",
      "0       54      0      39     57     96\n",
      "1       15     25       0     35     35\n",
      "2       31     22      65     10     75\n"
     ]
    }
   ],
   "source": [
    "#@title Double-click for a solution to Task 1.\n",
    "\n",
    "# Create a Python list that holds the names of the four columns.\n",
    "my_column_names = ['Eleanor', 'Chidi', 'Tahani', 'Jason']\n",
    "\n",
    "# Create a 3x4 numpy array, each cell populated with a random integer.\n",
    "my_data = np.random.randint(low=0, high=101, size=(3, 4))\n",
    "\n",
    "# Create a DataFrame.\n",
    "df = pd.DataFrame(data=my_data, columns=my_column_names)\n",
    "\n",
    "# Print the entire DataFrame\n",
    "print(df)\n",
    "\n",
    "# Print the value in row #1 of the Eleanor column.\n",
    "print(\"\\nSecond row of the Eleanor column: %d\\n\" % df['Eleanor'][1])\n",
    "\n",
    "# Create a column named Janet whose contents are the sum\n",
    "# of two other columns.\n",
    "df['Janet'] = df['Tahani'] + df['Jason']\n",
    "\n",
    "# Print the enhanced DataFrame\n",
    "print(df)"
   ]
  },
  {
   "cell_type": "code",
   "execution_count": 46,
   "metadata": {},
   "outputs": [
    {
     "name": "stdout",
     "output_type": "stream",
     "text": [
      "Experiment with a reference:\n",
      "  Starting value of df: 26\n",
      "  Starting value of reference_to_df: 26\n",
      "\n",
      "  Updated df: 31\n",
      "  Updated reference_to_df: 31\n",
      "\n",
      "\n",
      "Experiment with a true copy:\n",
      "  Starting value of my_dataframe: 7\n",
      "  Starting value of copy_of_my_dataframe: 7\n",
      "\n",
      "  Updated my_dataframe: 10\n",
      "  copy_of_my_dataframe does not get updated: 7\n"
     ]
    }
   ],
   "source": [
    "# Create a reference by assigning my_dataframe to a new variable.\n",
    "print(\"Experiment with a reference:\")\n",
    "reference_to_df = df\n",
    "\n",
    "# Print the starting value of a particular cell.\n",
    "print(\"  Starting value of df: %d\" % df['Jason'][1])\n",
    "print(\"  Starting value of reference_to_df: %d\\n\" % reference_to_df['Jason'][1])\n",
    "\n",
    "# Modify a cell in df.\n",
    "df.at[1, 'Jason'] = df['Jason'][1] + 5\n",
    "print(\"  Updated df: %d\" % df['Jason'][1])\n",
    "print(\"  Updated reference_to_df: %d\\n\\n\" % reference_to_df['Jason'][1])\n",
    "\n",
    "# Create a true copy of my_dataframe\n",
    "print(\"Experiment with a true copy:\")\n",
    "copy_of_my_dataframe = my_dataframe.copy()\n",
    "\n",
    "# Print the starting value of a particular cell.\n",
    "print(\"  Starting value of my_dataframe: %d\" % my_dataframe['activity'][1])\n",
    "print(\"  Starting value of copy_of_my_dataframe: %d\\n\" % copy_of_my_dataframe['activity'][1])\n",
    "\n",
    "# Modify a cell in df.\n",
    "my_dataframe.at[1, 'activity'] = my_dataframe['activity'][1] + 3\n",
    "print(\"  Updated my_dataframe: %d\" % my_dataframe['activity'][1])\n",
    "print(\"  copy_of_my_dataframe does not get updated: %d\" % copy_of_my_dataframe['activity'][1])"
   ]
  },
  {
   "cell_type": "code",
   "execution_count": 63,
   "metadata": {},
   "outputs": [
    {
     "name": "stdout",
     "output_type": "stream",
     "text": [
      " starting value of df: 45\n",
      " starting value of refernece_to_df: 45\n",
      "\n",
      " updated df: 50\n",
      " updated reference_to_df; 50\n",
      "\n",
      "\n",
      "Experiment with a true copy\n",
      " Starting values of my_dataframe: 16\n",
      " Starting values of copy_of_my_dataframe: 16\n",
      "\n",
      " updated my_dataframe: 19\n",
      " updated copy_of_my_dataframe: 16\n",
      "\n"
     ]
    }
   ],
   "source": [
    "reference_to_df = df\n",
    "\n",
    "print(\" starting value of df: %d\" % df['Jason'][1])\n",
    "print(\" starting value of refernece_to_df: %d\\n\" % reference_to_df['Jason'][1])\n",
    "\n",
    "df.at[1, 'Jason'] = df['Jason'][1] + 5\n",
    "print(\" updated df: %d\" % df['Jason'][1])\n",
    "print(\" updated reference_to_df; %d\\n\\n\" % reference_to_df['Jason'][1])\n",
    "\n",
    "print(\"Experiment with a true copy\")\n",
    "copy_of_my_dataframe = my_dataframe.copy()\n",
    "\n",
    "print(' Starting values of my_dataframe: %d' % my_dataframe['activity'][1])\n",
    "print(' Starting values of copy_of_my_dataframe: %d\\n' % copy_of_my_dataframe['activity'][1])\n",
    "\n",
    "my_dataframe.at[1, 'activity'] = my_dataframe['activity'][1] + 3\n",
    "print(\" updated my_dataframe: %d\" % my_dataframe['activity'][1])\n",
    "print(\" updated copy_of_my_dataframe: %d\\n\" % copy_of_my_dataframe['activity'][1])"
   ]
  },
  {
   "cell_type": "code",
   "execution_count": null,
   "metadata": {},
   "outputs": [],
   "source": []
  }
 ],
 "metadata": {
  "kernelspec": {
   "display_name": "Python 3",
   "language": "python",
   "name": "python3"
  },
  "language_info": {
   "codemirror_mode": {
    "name": "ipython",
    "version": 3
   },
   "file_extension": ".py",
   "mimetype": "text/x-python",
   "name": "python",
   "nbconvert_exporter": "python",
   "pygments_lexer": "ipython3",
   "version": "3.8.5"
  }
 },
 "nbformat": 4,
 "nbformat_minor": 5
}
